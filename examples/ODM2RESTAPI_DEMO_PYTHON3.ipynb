{
 "cells": [
  {
   "cell_type": "markdown",
   "metadata": {},
   "source": [
    "# ODM2REST API DEMO\n",
    "\n",
    "This notebook was created by Landung Setiawan to show the use of ODM2RESTAPI hosted at http://54.186.36.247:8001/v1/docs/"
   ]
  },
  {
   "cell_type": "markdown",
   "metadata": {},
   "source": [
    "## Import Modules"
   ]
  },
  {
   "cell_type": "code",
   "execution_count": 1,
   "metadata": {
    "collapsed": true
   },
   "outputs": [],
   "source": [
    "# Import libaries for explorations\n",
    "%matplotlib inline\n",
    "import folium\n",
    "from folium.plugins import MarkerCluster\n",
    "import pandas as pd\n",
    "import geopandas as gpd\n",
    "from shapely.geometry import Point\n",
    "import requests\n",
    "import json\n",
    "import dateutil.tz\n",
    "import pytz\n",
    "from urllib.parse import urljoin \n",
    "\n",
    "import matplotlib.pyplot as plt"
   ]
  },
  {
   "cell_type": "markdown",
   "metadata": {},
   "source": [
    "## Helper Functions"
   ]
  },
  {
   "cell_type": "code",
   "execution_count": 2,
   "metadata": {
    "collapsed": true
   },
   "outputs": [],
   "source": [
    "def odm2rest_request(endpoint, qparams=None):\n",
    "    api_version = 'v1'\n",
    "    base_url = 'http://54.186.36.247:8001'\n",
    "    root_url = urljoin(base_url, api_version) + '/'\n",
    "    \n",
    "    req_url = urljoin(root_url, endpoint)\n",
    "    req = requests.get(req_url, params=qparams)\n",
    "    \n",
    "    if req.status_code == 200 and req.json():\n",
    "        return req.json()\n",
    "    else:\n",
    "        print('There are no data.')"
   ]
  },
  {
   "cell_type": "code",
   "execution_count": 3,
   "metadata": {
    "collapsed": true
   },
   "outputs": [],
   "source": [
    "def get_odm2rest_resultvalues_df(var_code, export_df=False):\n",
    "    print(var_code)\n",
    "    res_params = {\n",
    "        'variableID': odm2rest_request('variables', {'variableCode': var_code})[0]['VariableID']\n",
    "    }\n",
    "    \n",
    "    results = odm2rest_request('results', res_params)\n",
    "    \n",
    "    ls = pd.to_datetime([obs['ResultDateTime'] for obs in results])\n",
    "    print('Start Date: {0} | End Date: {1}'.format(ls.min().isoformat(), ls.max().isoformat()))\n",
    "    \n",
    "    if export_df:\n",
    "        rv_rec = []\n",
    "        for r in results:\n",
    "            rv_params = {\n",
    "                'resultID': r['ResultID']\n",
    "            }\n",
    "            dt = odm2rest_request('resultvalues', rv_params)[0]\n",
    "            vdt_local = pd.to_datetime(dt['valuedatetime']).tz_localize(dateutil.tz.tzoffset(None, int(dt['valuedatetimeutcoffset'])*60*60))\n",
    "            rv = {'ValueDateTime': vdt_local,\n",
    "                  'DataValue': dt['datavalue'],\n",
    "                  'UnitsTypeCV': r['Unit']['UnitsTypeCV'],\n",
    "                  'UnitsAbbrev': r['Unit']['UnitsAbbreviation'],\n",
    "                  'ValueDateTimeUTC': vdt_local.astimezone(pytz.UTC)\n",
    "                 }\n",
    "            rv_rec.append(rv)\n",
    "\n",
    "        return pd.DataFrame.from_records(rv_rec)"
   ]
  },
  {
   "cell_type": "markdown",
   "metadata": {},
   "source": [
    "---"
   ]
  },
  {
   "cell_type": "markdown",
   "metadata": {},
   "source": [
    "## 1. Looking at where samples are collected."
   ]
  },
  {
   "cell_type": "code",
   "execution_count": 4,
   "metadata": {
    "collapsed": true
   },
   "outputs": [],
   "source": [
    "sf_params = {\n",
    "    'samplingFeatureType': 'Site'\n",
    "}"
   ]
  },
  {
   "cell_type": "code",
   "execution_count": 5,
   "metadata": {},
   "outputs": [
    {
     "name": "stdout",
     "output_type": "stream",
     "text": [
      "CPU times: user 9.27 ms, sys: 4 ms, total: 13.3 ms\n",
      "Wall time: 3.39 s\n"
     ]
    }
   ],
   "source": [
    "%time sf_json = odm2rest_request('samplingfeatures', sf_params)"
   ]
  },
  {
   "cell_type": "code",
   "execution_count": 6,
   "metadata": {
    "collapsed": true
   },
   "outputs": [],
   "source": [
    "df = pd.DataFrame.from_records(sf_json)"
   ]
  },
  {
   "cell_type": "code",
   "execution_count": 7,
   "metadata": {},
   "outputs": [
    {
     "name": "stdout",
     "output_type": "stream",
     "text": [
      "There are 67 Sites\n"
     ]
    }
   ],
   "source": [
    "print('There are {} Sites'.format(len(df.index)))"
   ]
  },
  {
   "cell_type": "code",
   "execution_count": 8,
   "metadata": {},
   "outputs": [
    {
     "data": {
      "text/html": [
       "<div>\n",
       "<style>\n",
       "    .dataframe thead tr:only-child th {\n",
       "        text-align: right;\n",
       "    }\n",
       "\n",
       "    .dataframe thead th {\n",
       "        text-align: left;\n",
       "    }\n",
       "\n",
       "    .dataframe tbody tr th {\n",
       "        vertical-align: top;\n",
       "    }\n",
       "</style>\n",
       "<table border=\"1\" class=\"dataframe\">\n",
       "  <thead>\n",
       "    <tr style=\"text-align: right;\">\n",
       "      <th></th>\n",
       "      <th>ElevationDatumCV</th>\n",
       "      <th>Elevation_m</th>\n",
       "      <th>FeatureGeometryWKT</th>\n",
       "      <th>Latitude</th>\n",
       "      <th>Longitude</th>\n",
       "      <th>SamplingFeatureCode</th>\n",
       "      <th>SamplingFeatureDescription</th>\n",
       "      <th>SamplingFeatureGeotypeCV</th>\n",
       "      <th>SamplingFeatureID</th>\n",
       "      <th>SamplingFeatureName</th>\n",
       "      <th>SamplingFeatureTypeCV</th>\n",
       "      <th>SamplingFeatureUUID</th>\n",
       "      <th>SiteTypeCV</th>\n",
       "      <th>SpatialReferenceID</th>\n",
       "      <th>geometry</th>\n",
       "    </tr>\n",
       "  </thead>\n",
       "  <tbody>\n",
       "    <tr>\n",
       "      <th>0</th>\n",
       "      <td>EGM96</td>\n",
       "      <td>1356.0</td>\n",
       "      <td>None</td>\n",
       "      <td>40.745078</td>\n",
       "      <td>-111.854449</td>\n",
       "      <td>RB_1300E</td>\n",
       "      <td>None</td>\n",
       "      <td>Point</td>\n",
       "      <td>1</td>\n",
       "      <td>Red Butte Creek at 1300E (downstream of spring)</td>\n",
       "      <td>Site</td>\n",
       "      <td>0dde8ef6-ec2f-42c0-ab50-20c6c02e89b2</td>\n",
       "      <td>Stream</td>\n",
       "      <td>4</td>\n",
       "      <td>POINT (-111.854449 40.745078)</td>\n",
       "    </tr>\n",
       "    <tr>\n",
       "      <th>1</th>\n",
       "      <td>EGM96</td>\n",
       "      <td>1356.0</td>\n",
       "      <td>None</td>\n",
       "      <td>40.745106</td>\n",
       "      <td>-111.854389</td>\n",
       "      <td>RB_1300ESpring</td>\n",
       "      <td>None</td>\n",
       "      <td>Point</td>\n",
       "      <td>2</td>\n",
       "      <td>Spring that enters Red Butte Creek at 1300E</td>\n",
       "      <td>Site</td>\n",
       "      <td>9848bbfe-ea3f-4918-a324-13e8ede5381c</td>\n",
       "      <td>Spring</td>\n",
       "      <td>4</td>\n",
       "      <td>POINT (-111.854389 40.745106)</td>\n",
       "    </tr>\n",
       "    <tr>\n",
       "      <th>2</th>\n",
       "      <td>EGM96</td>\n",
       "      <td>1289.0</td>\n",
       "      <td>None</td>\n",
       "      <td>40.741583</td>\n",
       "      <td>-111.917667</td>\n",
       "      <td>RB_900W_BA</td>\n",
       "      <td>None</td>\n",
       "      <td>Point</td>\n",
       "      <td>3</td>\n",
       "      <td>Red Butte Creek terminus at Jordan River at 13...</td>\n",
       "      <td>Site</td>\n",
       "      <td>688017bc-9e02-4444-a21d-270366be2348</td>\n",
       "      <td>Stream</td>\n",
       "      <td>4</td>\n",
       "      <td>POINT (-111.917667 40.741583)</td>\n",
       "    </tr>\n",
       "    <tr>\n",
       "      <th>3</th>\n",
       "      <td>EGM96</td>\n",
       "      <td>1519.0</td>\n",
       "      <td>None</td>\n",
       "      <td>40.766134</td>\n",
       "      <td>-111.826530</td>\n",
       "      <td>RB_Amphitheater</td>\n",
       "      <td>None</td>\n",
       "      <td>Point</td>\n",
       "      <td>4</td>\n",
       "      <td>Red Butte Creek below Red Butte Garden Amphith...</td>\n",
       "      <td>Site</td>\n",
       "      <td>9cfe685b-5cda-4e38-98d9-406d645c7d21</td>\n",
       "      <td>Stream</td>\n",
       "      <td>4</td>\n",
       "      <td>POINT (-111.82653 40.766134)</td>\n",
       "    </tr>\n",
       "    <tr>\n",
       "      <th>4</th>\n",
       "      <td>EGM96</td>\n",
       "      <td>1648.0</td>\n",
       "      <td>None</td>\n",
       "      <td>40.779602</td>\n",
       "      <td>-111.806669</td>\n",
       "      <td>RB_ARBR_AA</td>\n",
       "      <td>None</td>\n",
       "      <td>Point</td>\n",
       "      <td>5</td>\n",
       "      <td>Red Butte Creek above Red Butte Reservoir Adan...</td>\n",
       "      <td>Site</td>\n",
       "      <td>98c7f63a-fdfb-4898-87c6-5aa8ec34d1e4</td>\n",
       "      <td>Stream</td>\n",
       "      <td>4</td>\n",
       "      <td>POINT (-111.806669 40.779602)</td>\n",
       "    </tr>\n",
       "  </tbody>\n",
       "</table>\n",
       "</div>"
      ],
      "text/plain": [
       "  ElevationDatumCV  Elevation_m FeatureGeometryWKT   Latitude   Longitude  \\\n",
       "0            EGM96       1356.0               None  40.745078 -111.854449   \n",
       "1            EGM96       1356.0               None  40.745106 -111.854389   \n",
       "2            EGM96       1289.0               None  40.741583 -111.917667   \n",
       "3            EGM96       1519.0               None  40.766134 -111.826530   \n",
       "4            EGM96       1648.0               None  40.779602 -111.806669   \n",
       "\n",
       "  SamplingFeatureCode SamplingFeatureDescription SamplingFeatureGeotypeCV  \\\n",
       "0            RB_1300E                       None                    Point   \n",
       "1      RB_1300ESpring                       None                    Point   \n",
       "2          RB_900W_BA                       None                    Point   \n",
       "3     RB_Amphitheater                       None                    Point   \n",
       "4          RB_ARBR_AA                       None                    Point   \n",
       "\n",
       "   SamplingFeatureID                                SamplingFeatureName  \\\n",
       "0                  1    Red Butte Creek at 1300E (downstream of spring)   \n",
       "1                  2        Spring that enters Red Butte Creek at 1300E   \n",
       "2                  3  Red Butte Creek terminus at Jordan River at 13...   \n",
       "3                  4  Red Butte Creek below Red Butte Garden Amphith...   \n",
       "4                  5  Red Butte Creek above Red Butte Reservoir Adan...   \n",
       "\n",
       "  SamplingFeatureTypeCV                   SamplingFeatureUUID SiteTypeCV  \\\n",
       "0                  Site  0dde8ef6-ec2f-42c0-ab50-20c6c02e89b2     Stream   \n",
       "1                  Site  9848bbfe-ea3f-4918-a324-13e8ede5381c     Spring   \n",
       "2                  Site  688017bc-9e02-4444-a21d-270366be2348     Stream   \n",
       "3                  Site  9cfe685b-5cda-4e38-98d9-406d645c7d21     Stream   \n",
       "4                  Site  98c7f63a-fdfb-4898-87c6-5aa8ec34d1e4     Stream   \n",
       "\n",
       "   SpatialReferenceID                       geometry  \n",
       "0                   4  POINT (-111.854449 40.745078)  \n",
       "1                   4  POINT (-111.854389 40.745106)  \n",
       "2                   4  POINT (-111.917667 40.741583)  \n",
       "3                   4   POINT (-111.82653 40.766134)  \n",
       "4                   4  POINT (-111.806669 40.779602)  "
      ]
     },
     "execution_count": 8,
     "metadata": {},
     "output_type": "execute_result"
    }
   ],
   "source": [
    "# Create a GeoPandas GeoDataFrame from Sites DataFrame\n",
    "ptgeom = [Point(xy) for xy in zip(df['Longitude'], df['Latitude'])]\n",
    "sites = gpd.GeoDataFrame(df, geometry=ptgeom, crs={'init': 'epsg:4326'})\n",
    "sites.head(5)"
   ]
  },
  {
   "cell_type": "markdown",
   "metadata": {},
   "source": [
    "### Create Folium Basemap"
   ]
  },
  {
   "cell_type": "code",
   "execution_count": 9,
   "metadata": {
    "collapsed": true
   },
   "outputs": [],
   "source": [
    "c = sites.unary_union.centroid # GeoPandas heavy lifting\n",
    "m = folium.Map(location=[c.y, c.x], tiles='CartoDB positron', zoom_start=8)"
   ]
  },
  {
   "cell_type": "markdown",
   "metadata": {},
   "source": [
    "### Plot sites onto map"
   ]
  },
  {
   "cell_type": "code",
   "execution_count": 10,
   "metadata": {},
   "outputs": [
    {
     "data": {
      "text/html": [
       "<div style=\"width:100%;\"><div style=\"position:relative;width:100%;height:0;padding-bottom:60%;\"><iframe src=\"data:text/html;charset=utf-8;base64,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\" style=\"position:absolute;width:100%;height:100%;left:0;top:0;border:none !important;\" allowfullscreen webkitallowfullscreen mozallowfullscreen></iframe></div></div>"
      ],
      "text/plain": [
       "<folium.folium.Map at 0x116576978>"
      ]
     },
     "execution_count": 10,
     "metadata": {},
     "output_type": "execute_result"
    }
   ],
   "source": [
    "marker_cluster = MarkerCluster().add_to(m)\n",
    "for idx, feature in sites.iterrows():\n",
    "    folium.Marker(location=[feature.geometry.y, feature.geometry.x], \n",
    "                  icon=folium.Icon(color='green'),\n",
    "                  popup=\"{0} ({1}): {2}\".format(\n",
    "                      feature['SamplingFeatureCode'], feature['SiteTypeCV'], feature['SamplingFeatureName'])\n",
    "                 ).add_to(marker_cluster)\n",
    "m"
   ]
  },
  {
   "cell_type": "markdown",
   "metadata": {},
   "source": [
    "Now that we have a map, we can see where all the sites are exactly!"
   ]
  },
  {
   "cell_type": "markdown",
   "metadata": {},
   "source": [
    "---\n",
    "## 2. All possible variables collected"
   ]
  },
  {
   "cell_type": "code",
   "execution_count": 11,
   "metadata": {
    "collapsed": true
   },
   "outputs": [],
   "source": [
    "var = odm2rest_request('variables')"
   ]
  },
  {
   "cell_type": "code",
   "execution_count": 12,
   "metadata": {
    "collapsed": true
   },
   "outputs": [],
   "source": [
    "variables = pd.DataFrame.from_records(var)"
   ]
  },
  {
   "cell_type": "code",
   "execution_count": 13,
   "metadata": {},
   "outputs": [
    {
     "data": {
      "text/html": [
       "<div>\n",
       "<style>\n",
       "    .dataframe thead tr:only-child th {\n",
       "        text-align: right;\n",
       "    }\n",
       "\n",
       "    .dataframe thead th {\n",
       "        text-align: left;\n",
       "    }\n",
       "\n",
       "    .dataframe tbody tr th {\n",
       "        vertical-align: top;\n",
       "    }\n",
       "</style>\n",
       "<table border=\"1\" class=\"dataframe\">\n",
       "  <thead>\n",
       "    <tr style=\"text-align: right;\">\n",
       "      <th></th>\n",
       "      <th>NoDataValue</th>\n",
       "      <th>SpeciationCV</th>\n",
       "      <th>VariableCode</th>\n",
       "      <th>VariableDefinition</th>\n",
       "      <th>VariableID</th>\n",
       "      <th>VariableNameCV</th>\n",
       "      <th>VariableTypeCV</th>\n",
       "    </tr>\n",
       "  </thead>\n",
       "  <tbody>\n",
       "    <tr>\n",
       "      <th>0</th>\n",
       "      <td>-9999.0</td>\n",
       "      <td>N</td>\n",
       "      <td>TN</td>\n",
       "      <td></td>\n",
       "      <td>1</td>\n",
       "      <td>Nitrogen, total</td>\n",
       "      <td>Water quality</td>\n",
       "    </tr>\n",
       "    <tr>\n",
       "      <th>1</th>\n",
       "      <td>-9999.0</td>\n",
       "      <td>P</td>\n",
       "      <td>TP</td>\n",
       "      <td></td>\n",
       "      <td>2</td>\n",
       "      <td>Phosphorus, total</td>\n",
       "      <td>Water quality</td>\n",
       "    </tr>\n",
       "    <tr>\n",
       "      <th>2</th>\n",
       "      <td>-9999.0</td>\n",
       "      <td>N</td>\n",
       "      <td>Nitrate</td>\n",
       "      <td></td>\n",
       "      <td>3</td>\n",
       "      <td>Nitrogen, dissolved nitrite (NO2) + nitrate (NO3)</td>\n",
       "      <td>Water quality</td>\n",
       "    </tr>\n",
       "    <tr>\n",
       "      <th>3</th>\n",
       "      <td>-9999.0</td>\n",
       "      <td>N</td>\n",
       "      <td>Ammonia</td>\n",
       "      <td></td>\n",
       "      <td>4</td>\n",
       "      <td>Nitrogen, NH4</td>\n",
       "      <td>Water quality</td>\n",
       "    </tr>\n",
       "    <tr>\n",
       "      <th>4</th>\n",
       "      <td>-9999.0</td>\n",
       "      <td>P</td>\n",
       "      <td>Phosphate</td>\n",
       "      <td></td>\n",
       "      <td>5</td>\n",
       "      <td>Phosphorus, orthophosphate dissolved</td>\n",
       "      <td>Water quality</td>\n",
       "    </tr>\n",
       "    <tr>\n",
       "      <th>5</th>\n",
       "      <td>-9999.0</td>\n",
       "      <td>Not Applicable</td>\n",
       "      <td>Tcoliform</td>\n",
       "      <td></td>\n",
       "      <td>6</td>\n",
       "      <td>Coliform, total</td>\n",
       "      <td>Water quality</td>\n",
       "    </tr>\n",
       "    <tr>\n",
       "      <th>6</th>\n",
       "      <td>-9999.0</td>\n",
       "      <td>Not Applicable</td>\n",
       "      <td>E-coli</td>\n",
       "      <td></td>\n",
       "      <td>7</td>\n",
       "      <td>E-coli</td>\n",
       "      <td>Water quality</td>\n",
       "    </tr>\n",
       "    <tr>\n",
       "      <th>7</th>\n",
       "      <td>-9999.0</td>\n",
       "      <td>C</td>\n",
       "      <td>DOC</td>\n",
       "      <td></td>\n",
       "      <td>8</td>\n",
       "      <td>Carbon, dissolved organic</td>\n",
       "      <td>Water quality</td>\n",
       "    </tr>\n",
       "    <tr>\n",
       "      <th>8</th>\n",
       "      <td>-9999.0</td>\n",
       "      <td>N</td>\n",
       "      <td>TDN</td>\n",
       "      <td></td>\n",
       "      <td>9</td>\n",
       "      <td>Nitrogen, total dissolved</td>\n",
       "      <td>Water quality</td>\n",
       "    </tr>\n",
       "    <tr>\n",
       "      <th>9</th>\n",
       "      <td>-9999.0</td>\n",
       "      <td>Not Applicable</td>\n",
       "      <td>Abs254</td>\n",
       "      <td></td>\n",
       "      <td>10</td>\n",
       "      <td>Absorbance</td>\n",
       "      <td>Water quality</td>\n",
       "    </tr>\n",
       "    <tr>\n",
       "      <th>10</th>\n",
       "      <td>-9999.0</td>\n",
       "      <td>Not Applicable</td>\n",
       "      <td>SUVA</td>\n",
       "      <td></td>\n",
       "      <td>11</td>\n",
       "      <td>SUVA254</td>\n",
       "      <td>Water quality</td>\n",
       "    </tr>\n",
       "    <tr>\n",
       "      <th>11</th>\n",
       "      <td>-9999.0</td>\n",
       "      <td>Not Applicable</td>\n",
       "      <td>TSS</td>\n",
       "      <td></td>\n",
       "      <td>12</td>\n",
       "      <td>Solids, volatile suspended</td>\n",
       "      <td>Water quality</td>\n",
       "    </tr>\n",
       "    <tr>\n",
       "      <th>12</th>\n",
       "      <td>-9999.0</td>\n",
       "      <td>Not Applicable</td>\n",
       "      <td>VSS</td>\n",
       "      <td></td>\n",
       "      <td>13</td>\n",
       "      <td>Solids, volatile dissolved</td>\n",
       "      <td>Water quality</td>\n",
       "    </tr>\n",
       "    <tr>\n",
       "      <th>13</th>\n",
       "      <td>-9999.0</td>\n",
       "      <td>Not Applicable</td>\n",
       "      <td>Chlorophyll</td>\n",
       "      <td></td>\n",
       "      <td>14</td>\n",
       "      <td>Chlorophyll a</td>\n",
       "      <td>Water quality</td>\n",
       "    </tr>\n",
       "    <tr>\n",
       "      <th>14</th>\n",
       "      <td>-9999.0</td>\n",
       "      <td>delta O18</td>\n",
       "      <td>D18O</td>\n",
       "      <td></td>\n",
       "      <td>15</td>\n",
       "      <td>Oxygen-18</td>\n",
       "      <td>Water quality</td>\n",
       "    </tr>\n",
       "    <tr>\n",
       "      <th>15</th>\n",
       "      <td>-9999.0</td>\n",
       "      <td>delta 2H</td>\n",
       "      <td>D2H</td>\n",
       "      <td></td>\n",
       "      <td>16</td>\n",
       "      <td>Deuterium</td>\n",
       "      <td>Water quality</td>\n",
       "    </tr>\n",
       "    <tr>\n",
       "      <th>16</th>\n",
       "      <td>-9999.0</td>\n",
       "      <td>Not Applicable</td>\n",
       "      <td>WaterTemp</td>\n",
       "      <td></td>\n",
       "      <td>17</td>\n",
       "      <td>Temperature</td>\n",
       "      <td>Water quality</td>\n",
       "    </tr>\n",
       "  </tbody>\n",
       "</table>\n",
       "</div>"
      ],
      "text/plain": [
       "    NoDataValue    SpeciationCV VariableCode VariableDefinition  VariableID  \\\n",
       "0       -9999.0               N           TN                              1   \n",
       "1       -9999.0               P           TP                              2   \n",
       "2       -9999.0               N      Nitrate                              3   \n",
       "3       -9999.0               N      Ammonia                              4   \n",
       "4       -9999.0               P    Phosphate                              5   \n",
       "5       -9999.0  Not Applicable    Tcoliform                              6   \n",
       "6       -9999.0  Not Applicable       E-coli                              7   \n",
       "7       -9999.0               C          DOC                              8   \n",
       "8       -9999.0               N          TDN                              9   \n",
       "9       -9999.0  Not Applicable       Abs254                             10   \n",
       "10      -9999.0  Not Applicable         SUVA                             11   \n",
       "11      -9999.0  Not Applicable          TSS                             12   \n",
       "12      -9999.0  Not Applicable          VSS                             13   \n",
       "13      -9999.0  Not Applicable  Chlorophyll                             14   \n",
       "14      -9999.0       delta O18         D18O                             15   \n",
       "15      -9999.0        delta 2H          D2H                             16   \n",
       "16      -9999.0  Not Applicable    WaterTemp                             17   \n",
       "\n",
       "                                       VariableNameCV VariableTypeCV  \n",
       "0                                     Nitrogen, total  Water quality  \n",
       "1                                   Phosphorus, total  Water quality  \n",
       "2   Nitrogen, dissolved nitrite (NO2) + nitrate (NO3)  Water quality  \n",
       "3                                       Nitrogen, NH4  Water quality  \n",
       "4                Phosphorus, orthophosphate dissolved  Water quality  \n",
       "5                                     Coliform, total  Water quality  \n",
       "6                                              E-coli  Water quality  \n",
       "7                           Carbon, dissolved organic  Water quality  \n",
       "8                           Nitrogen, total dissolved  Water quality  \n",
       "9                                          Absorbance  Water quality  \n",
       "10                                            SUVA254  Water quality  \n",
       "11                         Solids, volatile suspended  Water quality  \n",
       "12                         Solids, volatile dissolved  Water quality  \n",
       "13                                      Chlorophyll a  Water quality  \n",
       "14                                          Oxygen-18  Water quality  \n",
       "15                                          Deuterium  Water quality  \n",
       "16                                        Temperature  Water quality  "
      ]
     },
     "execution_count": 13,
     "metadata": {},
     "output_type": "execute_result"
    }
   ],
   "source": [
    "variables"
   ]
  },
  {
   "cell_type": "markdown",
   "metadata": {},
   "source": [
    "---\n",
    "## 3. Request results for VariableCode `Nitrate` (Nitrogen, dissolved nitrite (NO2) + nitrate (NO3))"
   ]
  },
  {
   "cell_type": "code",
   "execution_count": 14,
   "metadata": {
    "collapsed": true
   },
   "outputs": [],
   "source": [
    "varcode = 'Nitrate'"
   ]
  },
  {
   "cell_type": "code",
   "execution_count": 15,
   "metadata": {
    "collapsed": true
   },
   "outputs": [],
   "source": [
    "res_params = {\n",
    "    'variableID': odm2rest_request('variables', {'variableCode': varcode})[0]['VariableID']\n",
    "}"
   ]
  },
  {
   "cell_type": "code",
   "execution_count": 16,
   "metadata": {},
   "outputs": [
    {
     "name": "stdout",
     "output_type": "stream",
     "text": [
      "CPU times: user 48.7 ms, sys: 12.7 ms, total: 61.4 ms\n",
      "Wall time: 8.45 s\n"
     ]
    }
   ],
   "source": [
    "%time results = odm2rest_request('results', res_params)"
   ]
  },
  {
   "cell_type": "code",
   "execution_count": 17,
   "metadata": {},
   "outputs": [
    {
     "name": "stdout",
     "output_type": "stream",
     "text": [
      "Number of results for Nitrate: 488\n"
     ]
    }
   ],
   "source": [
    "print('Number of results for {0}: {1}'.format(varcode, len(results)))"
   ]
  },
  {
   "cell_type": "code",
   "execution_count": 18,
   "metadata": {},
   "outputs": [
    {
     "name": "stdout",
     "output_type": "stream",
     "text": [
      "Start Date: 2014-06-30T00:00:00 | End Date: 2016-01-14T13:00:00\n"
     ]
    }
   ],
   "source": [
    "# ResultDateTime range (min & max)\n",
    "ls = pd.to_datetime([obs['ResultDateTime'] for obs in results])\n",
    "print('Start Date: {0} | End Date: {1}'.format(ls.min().isoformat(), ls.max().isoformat()))"
   ]
  },
  {
   "cell_type": "code",
   "execution_count": 19,
   "metadata": {},
   "outputs": [
    {
     "data": {
      "text/plain": [
       "dict_keys(['ResultID', 'ResultUUID', 'FeatureActionID', 'ResultTypeCV', 'VariableID', 'UnitsID', 'TaxonomicClassifierID', 'ProcessingLevelID', 'ResultDateTime', 'ResultDateTimeUTCOffset', 'ValidDateTime', 'ValidDateTimeUTCOffset', 'StatusCV', 'SampledMediumCV', 'ValueCount', 'FeatureAction', 'ProcessingLevel', 'TaxonomicClassifier', 'Unit', 'Variable'])"
      ]
     },
     "execution_count": 19,
     "metadata": {},
     "output_type": "execute_result"
    }
   ],
   "source": [
    "# Dig into one\n",
    "result = results[0]\n",
    "result.keys()"
   ]
  },
  {
   "cell_type": "markdown",
   "metadata": {},
   "source": [
    "There are a rich of information about each result!"
   ]
  },
  {
   "cell_type": "code",
   "execution_count": 20,
   "metadata": {},
   "outputs": [
    {
     "data": {
      "text/plain": [
       "{'FeatureAction': {'Action': {'ActionDescription': None,\n",
       "   'ActionFileLink': None,\n",
       "   'ActionID': 10003,\n",
       "   'ActionTypeCV': 'Specimen analysis',\n",
       "   'BeginDateTime': '2015-01-04T00:00:00',\n",
       "   'BeginDateTimeUTCOffset': -7,\n",
       "   'EndDateTime': None,\n",
       "   'EndDateTimeUTCOffset': None,\n",
       "   'Method': {'MethodCode': 'Ast_EPA353.2',\n",
       "    'MethodDescription': 'Nitrate-Nitrite (Colorimetric, Automated, Cadmium Reduction), MDL 0.005 mg/l',\n",
       "    'MethodID': 11,\n",
       "    'MethodLink': '',\n",
       "    'MethodName': 'Astoria EPA 353.2',\n",
       "    'MethodTypeCV': 'Specimen analysis',\n",
       "    'Organization': {'OrganizationCode': 'USUABL',\n",
       "     'OrganizationDescription': '',\n",
       "     'OrganizationID': 6,\n",
       "     'OrganizationLink': 'http://www.usu.edu',\n",
       "     'OrganizationName': 'USU Aquatic Biogeochemistry Lab',\n",
       "     'OrganizationTypeCV': 'Research organization',\n",
       "     'ParentOrganizationID': None},\n",
       "    'OrganizationID': 6},\n",
       "   'MethodID': 11},\n",
       "  'ActionID': 10003,\n",
       "  'FeatureActionID': 10003,\n",
       "  'SamplingFeature': {'ElevationDatumCV': 'Unknown',\n",
       "   'Elevation_m': None,\n",
       "   'FeatureGeometryWKT': None,\n",
       "   'IsFieldSpecimen': True,\n",
       "   'SamplingFeatureCode': '26',\n",
       "   'SamplingFeatureDescription': None,\n",
       "   'SamplingFeatureGeotypeCV': 'Not applicable',\n",
       "   'SamplingFeatureID': 1002,\n",
       "   'SamplingFeatureName': None,\n",
       "   'SamplingFeatureTypeCV': 'Specimen',\n",
       "   'SamplingFeatureUUID': '111882ee-71ee-4277-b885-7a5026b12bd5',\n",
       "   'SpecimenMediumCV': 'Liquid aqueous',\n",
       "   'SpecimenTypeCV': 'Grab'},\n",
       "  'SamplingFeatureID': 1002},\n",
       " 'FeatureActionID': 10003,\n",
       " 'ProcessingLevel': {'Definition': 'Raw Data',\n",
       "  'Explanation': 'Raw and unprocessed data and data products that have not undergone quality control.  Depending on the variable, data type, and data transmission system, raw data may be available within seconds or minutes after the measurements have been made. Examples include real time precipitation, streamflow and water quality measurements.',\n",
       "  'ProcessingLevelCode': '0',\n",
       "  'ProcessingLevelID': 0},\n",
       " 'ProcessingLevelID': 0,\n",
       " 'ResultDateTime': '2014-12-11T11:16:48',\n",
       " 'ResultDateTimeUTCOffset': -7,\n",
       " 'ResultID': 4,\n",
       " 'ResultTypeCV': 'Measurement',\n",
       " 'ResultUUID': '454a5231-330b-4642-b202-ee510d07ef40',\n",
       " 'SampledMediumCV': 'Liquid aqueous',\n",
       " 'StatusCV': 'Complete',\n",
       " 'TaxonomicClassifier': None,\n",
       " 'TaxonomicClassifierID': None,\n",
       " 'Unit': {'UnitsAbbreviation': 'mg/l',\n",
       "  'UnitsID': 1,\n",
       "  'UnitsLink': '',\n",
       "  'UnitsName': 'milligrams per liter',\n",
       "  'UnitsTypeCV': 'Concentration or density mass per volume'},\n",
       " 'UnitsID': 1,\n",
       " 'ValidDateTime': None,\n",
       " 'ValidDateTimeUTCOffset': None,\n",
       " 'ValueCount': 1,\n",
       " 'Variable': {'NoDataValue': -9999.0,\n",
       "  'SpeciationCV': 'N',\n",
       "  'VariableCode': 'Nitrate',\n",
       "  'VariableDefinition': '',\n",
       "  'VariableID': 3,\n",
       "  'VariableNameCV': 'Nitrogen, dissolved nitrite (NO2) + nitrate (NO3)',\n",
       "  'VariableTypeCV': 'Water quality'},\n",
       " 'VariableID': 3}"
      ]
     },
     "execution_count": 20,
     "metadata": {},
     "output_type": "execute_result"
    }
   ],
   "source": [
    "result"
   ]
  },
  {
   "cell_type": "markdown",
   "metadata": {},
   "source": [
    "---\n",
    "## Request result values for each observation (by result uuid), then import into Pandas DataFrame"
   ]
  },
  {
   "cell_type": "code",
   "execution_count": 21,
   "metadata": {
    "collapsed": true
   },
   "outputs": [],
   "source": [
    "resultids = [str(r['ResultID']) for r in results]"
   ]
  },
  {
   "cell_type": "code",
   "execution_count": 22,
   "metadata": {
    "collapsed": true
   },
   "outputs": [],
   "source": [
    "rv_params = {\n",
    "    'resultID': ','.join(resultids)\n",
    "}"
   ]
  },
  {
   "cell_type": "code",
   "execution_count": 23,
   "metadata": {},
   "outputs": [
    {
     "name": "stdout",
     "output_type": "stream",
     "text": [
      "CPU times: user 8.54 ms, sys: 2.25 ms, total: 10.8 ms\n",
      "Wall time: 376 ms\n"
     ]
    }
   ],
   "source": [
    "%time resultvalue_records = odm2rest_request('resultvalues', rv_params)"
   ]
  },
  {
   "cell_type": "code",
   "execution_count": 24,
   "metadata": {
    "collapsed": true
   },
   "outputs": [],
   "source": [
    "resultvalue_df = pd.DataFrame.from_records(resultvalue_records)"
   ]
  },
  {
   "cell_type": "code",
   "execution_count": 25,
   "metadata": {},
   "outputs": [
    {
     "data": {
      "text/html": [
       "<div>\n",
       "<style>\n",
       "    .dataframe thead tr:only-child th {\n",
       "        text-align: right;\n",
       "    }\n",
       "\n",
       "    .dataframe thead th {\n",
       "        text-align: left;\n",
       "    }\n",
       "\n",
       "    .dataframe tbody tr th {\n",
       "        vertical-align: top;\n",
       "    }\n",
       "</style>\n",
       "<table border=\"1\" class=\"dataframe\">\n",
       "  <thead>\n",
       "    <tr style=\"text-align: right;\">\n",
       "      <th></th>\n",
       "      <th>datavalue</th>\n",
       "      <th>resultid</th>\n",
       "      <th>valuedatetime</th>\n",
       "      <th>valuedatetimeutcoffset</th>\n",
       "      <th>valueid</th>\n",
       "    </tr>\n",
       "  </thead>\n",
       "  <tbody>\n",
       "    <tr>\n",
       "      <th>0</th>\n",
       "      <td>0.0100</td>\n",
       "      <td>4</td>\n",
       "      <td>2014-12-11T11:16:48</td>\n",
       "      <td>-7</td>\n",
       "      <td>4</td>\n",
       "    </tr>\n",
       "    <tr>\n",
       "      <th>1</th>\n",
       "      <td>3.0874</td>\n",
       "      <td>16</td>\n",
       "      <td>2014-12-02T09:36:00</td>\n",
       "      <td>-7</td>\n",
       "      <td>16</td>\n",
       "    </tr>\n",
       "    <tr>\n",
       "      <th>2</th>\n",
       "      <td>0.2577</td>\n",
       "      <td>19</td>\n",
       "      <td>2015-09-29T11:45:36</td>\n",
       "      <td>-6</td>\n",
       "      <td>19</td>\n",
       "    </tr>\n",
       "    <tr>\n",
       "      <th>3</th>\n",
       "      <td>0.0577</td>\n",
       "      <td>22</td>\n",
       "      <td>2014-09-16T10:04:48</td>\n",
       "      <td>-6</td>\n",
       "      <td>22</td>\n",
       "    </tr>\n",
       "    <tr>\n",
       "      <th>4</th>\n",
       "      <td>0.1177</td>\n",
       "      <td>25</td>\n",
       "      <td>2014-09-01T13:26:24</td>\n",
       "      <td>-6</td>\n",
       "      <td>25</td>\n",
       "    </tr>\n",
       "  </tbody>\n",
       "</table>\n",
       "</div>"
      ],
      "text/plain": [
       "   datavalue  resultid        valuedatetime  valuedatetimeutcoffset  valueid\n",
       "0     0.0100         4  2014-12-11T11:16:48                      -7        4\n",
       "1     3.0874        16  2014-12-02T09:36:00                      -7       16\n",
       "2     0.2577        19  2015-09-29T11:45:36                      -6       19\n",
       "3     0.0577        22  2014-09-16T10:04:48                      -6       22\n",
       "4     0.1177        25  2014-09-01T13:26:24                      -6       25"
      ]
     },
     "execution_count": 25,
     "metadata": {},
     "output_type": "execute_result"
    }
   ],
   "source": [
    "resultvalue_df.head()"
   ]
  },
  {
   "cell_type": "code",
   "execution_count": 26,
   "metadata": {
    "collapsed": true
   },
   "outputs": [],
   "source": [
    "resultvalue_df['valuedtoff'] = resultvalue_df.apply(lambda x: pd.to_datetime(x['valuedatetime']).tz_localize(dateutil.tz.tzoffset(None, \n",
    "                                                                                                                               int(x['valuedatetimeutcoffset'])*60*60)).astimezone(pytz.UTC), axis=1)"
   ]
  },
  {
   "cell_type": "code",
   "execution_count": 27,
   "metadata": {},
   "outputs": [
    {
     "data": {
      "text/plain": [
       "<matplotlib.axes._subplots.AxesSubplot at 0x117c1e240>"
      ]
     },
     "execution_count": 27,
     "metadata": {},
     "output_type": "execute_result"
    },
    {
     "data": {
      "image/png": "[encoded data removed]",
      "text/plain": [
       "<matplotlib.figure.Figure at 0x117c1e208>"
      ]
     },
     "metadata": {},
     "output_type": "display_data"
    }
   ],
   "source": [
    "resultvalue_df.plot(y='datavalue', x='valuedtoff')"
   ]
  },
  {
   "cell_type": "markdown",
   "metadata": {},
   "source": [
    "---\n",
    "## 4. Comparing variables `Nitrate` (Nitrogen, dissolved nitrite (NO2) + nitrate (NO3)) vs `Phosphate` (Phosphorus, orthophosphate dissolved)"
   ]
  },
  {
   "cell_type": "code",
   "execution_count": 28,
   "metadata": {},
   "outputs": [
    {
     "name": "stdout",
     "output_type": "stream",
     "text": [
      "Nitrate\n",
      "Start Date: 2014-06-30T00:00:00 | End Date: 2016-01-14T13:00:00\n"
     ]
    }
   ],
   "source": [
    "# Check the dates for each data\n",
    "df1 = get_odm2rest_resultvalues_df('Nitrate', export_df=True)"
   ]
  },
  {
   "cell_type": "code",
   "execution_count": 29,
   "metadata": {},
   "outputs": [
    {
     "name": "stdout",
     "output_type": "stream",
     "text": [
      "Phosphate\n",
      "Start Date: 2014-06-30T00:00:00 | End Date: 2016-01-14T13:00:00\n"
     ]
    }
   ],
   "source": [
    "df2 = get_odm2rest_resultvalues_df('Phosphate', export_df=True)"
   ]
  },
  {
   "cell_type": "code",
   "execution_count": 30,
   "metadata": {},
   "outputs": [
    {
     "data": {
      "text/html": [
       "<div>\n",
       "<style>\n",
       "    .dataframe thead tr:only-child th {\n",
       "        text-align: right;\n",
       "    }\n",
       "\n",
       "    .dataframe thead th {\n",
       "        text-align: left;\n",
       "    }\n",
       "\n",
       "    .dataframe tbody tr th {\n",
       "        vertical-align: top;\n",
       "    }\n",
       "</style>\n",
       "<table border=\"1\" class=\"dataframe\">\n",
       "  <thead>\n",
       "    <tr style=\"text-align: right;\">\n",
       "      <th></th>\n",
       "      <th>DataValue</th>\n",
       "      <th>UnitsAbbrev</th>\n",
       "      <th>UnitsTypeCV</th>\n",
       "      <th>ValueDateTime</th>\n",
       "      <th>ValueDateTimeUTC</th>\n",
       "    </tr>\n",
       "  </thead>\n",
       "  <tbody>\n",
       "    <tr>\n",
       "      <th>0</th>\n",
       "      <td>0.0100</td>\n",
       "      <td>mg/l</td>\n",
       "      <td>Concentration or density mass per volume</td>\n",
       "      <td>2014-12-11 11:16:48-07:00</td>\n",
       "      <td>2014-12-11 18:16:48+00:00</td>\n",
       "    </tr>\n",
       "    <tr>\n",
       "      <th>1</th>\n",
       "      <td>3.0874</td>\n",
       "      <td>mg/l</td>\n",
       "      <td>Concentration or density mass per volume</td>\n",
       "      <td>2014-12-02 09:36:00-07:00</td>\n",
       "      <td>2014-12-02 16:36:00+00:00</td>\n",
       "    </tr>\n",
       "    <tr>\n",
       "      <th>2</th>\n",
       "      <td>0.2577</td>\n",
       "      <td>mg/l</td>\n",
       "      <td>Concentration or density mass per volume</td>\n",
       "      <td>2015-09-29 11:45:36-06:00</td>\n",
       "      <td>2015-09-29 17:45:36+00:00</td>\n",
       "    </tr>\n",
       "    <tr>\n",
       "      <th>3</th>\n",
       "      <td>0.0577</td>\n",
       "      <td>mg/l</td>\n",
       "      <td>Concentration or density mass per volume</td>\n",
       "      <td>2014-09-16 10:04:48-06:00</td>\n",
       "      <td>2014-09-16 16:04:48+00:00</td>\n",
       "    </tr>\n",
       "    <tr>\n",
       "      <th>4</th>\n",
       "      <td>0.1177</td>\n",
       "      <td>mg/l</td>\n",
       "      <td>Concentration or density mass per volume</td>\n",
       "      <td>2014-09-01 13:26:24-06:00</td>\n",
       "      <td>2014-09-01 19:26:24+00:00</td>\n",
       "    </tr>\n",
       "  </tbody>\n",
       "</table>\n",
       "</div>"
      ],
      "text/plain": [
       "   DataValue UnitsAbbrev                               UnitsTypeCV  \\\n",
       "0     0.0100        mg/l  Concentration or density mass per volume   \n",
       "1     3.0874        mg/l  Concentration or density mass per volume   \n",
       "2     0.2577        mg/l  Concentration or density mass per volume   \n",
       "3     0.0577        mg/l  Concentration or density mass per volume   \n",
       "4     0.1177        mg/l  Concentration or density mass per volume   \n",
       "\n",
       "               ValueDateTime          ValueDateTimeUTC  \n",
       "0  2014-12-11 11:16:48-07:00 2014-12-11 18:16:48+00:00  \n",
       "1  2014-12-02 09:36:00-07:00 2014-12-02 16:36:00+00:00  \n",
       "2  2015-09-29 11:45:36-06:00 2015-09-29 17:45:36+00:00  \n",
       "3  2014-09-16 10:04:48-06:00 2014-09-16 16:04:48+00:00  \n",
       "4  2014-09-01 13:26:24-06:00 2014-09-01 19:26:24+00:00  "
      ]
     },
     "execution_count": 30,
     "metadata": {},
     "output_type": "execute_result"
    }
   ],
   "source": [
    "df1.head()"
   ]
  },
  {
   "cell_type": "code",
   "execution_count": 33,
   "metadata": {},
   "outputs": [
    {
     "data": {
      "text/html": [
       "<div>\n",
       "<style>\n",
       "    .dataframe thead tr:only-child th {\n",
       "        text-align: right;\n",
       "    }\n",
       "\n",
       "    .dataframe thead th {\n",
       "        text-align: left;\n",
       "    }\n",
       "\n",
       "    .dataframe tbody tr th {\n",
       "        vertical-align: top;\n",
       "    }\n",
       "</style>\n",
       "<table border=\"1\" class=\"dataframe\">\n",
       "  <thead>\n",
       "    <tr style=\"text-align: right;\">\n",
       "      <th></th>\n",
       "      <th>DataValue</th>\n",
       "      <th>UnitsAbbrev</th>\n",
       "      <th>UnitsTypeCV</th>\n",
       "      <th>ValueDateTime</th>\n",
       "      <th>ValueDateTimeUTC</th>\n",
       "    </tr>\n",
       "  </thead>\n",
       "  <tbody>\n",
       "    <tr>\n",
       "      <th>0</th>\n",
       "      <td>0.0156</td>\n",
       "      <td>mg/l</td>\n",
       "      <td>Concentration or density mass per volume</td>\n",
       "      <td>2014-12-11 11:16:48-07:00</td>\n",
       "      <td>2014-12-11 18:16:48+00:00</td>\n",
       "    </tr>\n",
       "    <tr>\n",
       "      <th>1</th>\n",
       "      <td>0.0100</td>\n",
       "      <td>mg/l</td>\n",
       "      <td>Concentration or density mass per volume</td>\n",
       "      <td>2014-12-02 09:36:00-07:00</td>\n",
       "      <td>2014-12-02 16:36:00+00:00</td>\n",
       "    </tr>\n",
       "    <tr>\n",
       "      <th>2</th>\n",
       "      <td>0.0100</td>\n",
       "      <td>mg/l</td>\n",
       "      <td>Concentration or density mass per volume</td>\n",
       "      <td>2015-09-29 11:45:36-06:00</td>\n",
       "      <td>2015-09-29 17:45:36+00:00</td>\n",
       "    </tr>\n",
       "    <tr>\n",
       "      <th>3</th>\n",
       "      <td>0.0100</td>\n",
       "      <td>mg/l</td>\n",
       "      <td>Concentration or density mass per volume</td>\n",
       "      <td>2014-09-16 10:04:48-06:00</td>\n",
       "      <td>2014-09-16 16:04:48+00:00</td>\n",
       "    </tr>\n",
       "    <tr>\n",
       "      <th>4</th>\n",
       "      <td>0.0115</td>\n",
       "      <td>mg/l</td>\n",
       "      <td>Concentration or density mass per volume</td>\n",
       "      <td>2014-09-01 13:26:24-06:00</td>\n",
       "      <td>2014-09-01 19:26:24+00:00</td>\n",
       "    </tr>\n",
       "  </tbody>\n",
       "</table>\n",
       "</div>"
      ],
      "text/plain": [
       "   DataValue UnitsAbbrev                               UnitsTypeCV  \\\n",
       "0     0.0156        mg/l  Concentration or density mass per volume   \n",
       "1     0.0100        mg/l  Concentration or density mass per volume   \n",
       "2     0.0100        mg/l  Concentration or density mass per volume   \n",
       "3     0.0100        mg/l  Concentration or density mass per volume   \n",
       "4     0.0115        mg/l  Concentration or density mass per volume   \n",
       "\n",
       "               ValueDateTime          ValueDateTimeUTC  \n",
       "0  2014-12-11 11:16:48-07:00 2014-12-11 18:16:48+00:00  \n",
       "1  2014-12-02 09:36:00-07:00 2014-12-02 16:36:00+00:00  \n",
       "2  2015-09-29 11:45:36-06:00 2015-09-29 17:45:36+00:00  \n",
       "3  2014-09-16 10:04:48-06:00 2014-09-16 16:04:48+00:00  \n",
       "4  2014-09-01 13:26:24-06:00 2014-09-01 19:26:24+00:00  "
      ]
     },
     "execution_count": 33,
     "metadata": {},
     "output_type": "execute_result"
    }
   ],
   "source": [
    "df2.head()"
   ]
  },
  {
   "cell_type": "code",
   "execution_count": 34,
   "metadata": {},
   "outputs": [
    {
     "data": {
      "text/plain": [
       "<matplotlib.legend.Legend at 0x11b8af780>"
      ]
     },
     "execution_count": 34,
     "metadata": {},
     "output_type": "execute_result"
    },
    {
     "data": {
      "image/png": "[encoded data removed]",
      "text/plain": [
       "<matplotlib.figure.Figure at 0x11b3d5668>"
      ]
     },
     "metadata": {},
     "output_type": "display_data"
    }
   ],
   "source": [
    "f, ax = plt.subplots(1, figsize=(20, 10))\n",
    "\n",
    "df1.plot(ax=ax, \n",
    "         y='DataValue', \n",
    "         x='ValueDateTimeUTC', \n",
    "         label='Nitrate', \n",
    "         color='Red')\n",
    "ax.legend(loc='upper left')\n",
    "\n",
    "ax1 = ax.twinx()\n",
    "df2.plot(ax=ax1, y='DataValue', x='ValueDateTimeUTC', label='Phosphate')\n",
    "ax1.legend(loc='upper right')"
   ]
  },
  {
   "cell_type": "markdown",
   "metadata": {},
   "source": [
    "---\n",
    "## 5. See the people involved in Data collection of  `Nitrate`"
   ]
  },
  {
   "cell_type": "code",
   "execution_count": 35,
   "metadata": {
    "collapsed": true
   },
   "outputs": [],
   "source": [
    "actions = [r['FeatureAction']['Action'] for r in results]"
   ]
  },
  {
   "cell_type": "code",
   "execution_count": 36,
   "metadata": {
    "collapsed": true,
    "scrolled": true
   },
   "outputs": [],
   "source": [
    "orgs = []\n",
    "for act in actions:\n",
    "    if act['Method']['Organization']['OrganizationCode'] not in orgs:\n",
    "        orgs.append(act['Method']['Organization']['OrganizationCode'])"
   ]
  },
  {
   "cell_type": "code",
   "execution_count": 37,
   "metadata": {},
   "outputs": [
    {
     "data": {
      "text/plain": [
       "['USUABL']"
      ]
     },
     "execution_count": 37,
     "metadata": {},
     "output_type": "execute_result"
    }
   ],
   "source": [
    "orgs"
   ]
  },
  {
   "cell_type": "code",
   "execution_count": 38,
   "metadata": {
    "collapsed": true
   },
   "outputs": [],
   "source": [
    "# Get people in organization\n",
    "people = odm2rest_request('affiliations', {'organizationCode': ','.join(orgs)})"
   ]
  },
  {
   "cell_type": "code",
   "execution_count": 39,
   "metadata": {
    "collapsed": true
   },
   "outputs": [],
   "source": [
    "people_rec = []\n",
    "for person in people:\n",
    "    contact = 'No'\n",
    "    if person['IsPrimaryOrganizationContact']:\n",
    "        contact = 'Yes'\n",
    "    people_rec.append({\n",
    "            'FirstName': person['Person']['PersonFirstName'],\n",
    "            'LastName': person['Person']['PersonLastName'],\n",
    "            'Email': person['PrimaryEmail'],\n",
    "            'StartDate': person['AffiliationStartDate'],\n",
    "            'Organization': person['Organization']['OrganizationName'],\n",
    "            'PrimaryContact': contact\n",
    "        })"
   ]
  },
  {
   "cell_type": "code",
   "execution_count": 40,
   "metadata": {
    "collapsed": true
   },
   "outputs": [],
   "source": [
    "people_df = pd.DataFrame.from_records(people_rec)"
   ]
  },
  {
   "cell_type": "code",
   "execution_count": 41,
   "metadata": {},
   "outputs": [
    {
     "data": {
      "text/html": [
       "<div>\n",
       "<style>\n",
       "    .dataframe thead tr:only-child th {\n",
       "        text-align: right;\n",
       "    }\n",
       "\n",
       "    .dataframe thead th {\n",
       "        text-align: left;\n",
       "    }\n",
       "\n",
       "    .dataframe tbody tr th {\n",
       "        vertical-align: top;\n",
       "    }\n",
       "</style>\n",
       "<table border=\"1\" class=\"dataframe\">\n",
       "  <thead>\n",
       "    <tr style=\"text-align: right;\">\n",
       "      <th></th>\n",
       "      <th>Email</th>\n",
       "      <th>FirstName</th>\n",
       "      <th>LastName</th>\n",
       "      <th>Organization</th>\n",
       "      <th>PrimaryContact</th>\n",
       "      <th>StartDate</th>\n",
       "    </tr>\n",
       "  </thead>\n",
       "  <tbody>\n",
       "    <tr>\n",
       "      <th>0</th>\n",
       "      <td>dane.brophy@usu.edu</td>\n",
       "      <td>Dane</td>\n",
       "      <td>Brophy</td>\n",
       "      <td>USU Aquatic Biogeochemistry Lab</td>\n",
       "      <td>No</td>\n",
       "      <td>2015-01-01</td>\n",
       "    </tr>\n",
       "    <tr>\n",
       "      <th>1</th>\n",
       "      <td>benjamin.rider@usu.edu</td>\n",
       "      <td>Ben</td>\n",
       "      <td>Rider</td>\n",
       "      <td>USU Aquatic Biogeochemistry Lab</td>\n",
       "      <td>No</td>\n",
       "      <td>2015-01-01</td>\n",
       "    </tr>\n",
       "    <tr>\n",
       "      <th>2</th>\n",
       "      <td>michelle.baker@usu.edu</td>\n",
       "      <td>Michelle</td>\n",
       "      <td>Baker</td>\n",
       "      <td>USU Aquatic Biogeochemistry Lab</td>\n",
       "      <td>No</td>\n",
       "      <td>2015-01-01</td>\n",
       "    </tr>\n",
       "    <tr>\n",
       "      <th>3</th>\n",
       "      <td>unknown</td>\n",
       "      <td>Lisa</td>\n",
       "      <td>Ward</td>\n",
       "      <td>USU Aquatic Biogeochemistry Lab</td>\n",
       "      <td>No</td>\n",
       "      <td>2015-01-01</td>\n",
       "    </tr>\n",
       "    <tr>\n",
       "      <th>4</th>\n",
       "      <td>unknown</td>\n",
       "      <td>Elizabeth</td>\n",
       "      <td>Capps</td>\n",
       "      <td>USU Aquatic Biogeochemistry Lab</td>\n",
       "      <td>No</td>\n",
       "      <td>2015-01-01</td>\n",
       "    </tr>\n",
       "  </tbody>\n",
       "</table>\n",
       "</div>"
      ],
      "text/plain": [
       "                    Email  FirstName LastName  \\\n",
       "0     dane.brophy@usu.edu       Dane   Brophy   \n",
       "1  benjamin.rider@usu.edu        Ben    Rider   \n",
       "2  michelle.baker@usu.edu   Michelle    Baker   \n",
       "3                 unknown       Lisa     Ward   \n",
       "4                 unknown  Elizabeth    Capps   \n",
       "\n",
       "                      Organization PrimaryContact   StartDate  \n",
       "0  USU Aquatic Biogeochemistry Lab             No  2015-01-01  \n",
       "1  USU Aquatic Biogeochemistry Lab             No  2015-01-01  \n",
       "2  USU Aquatic Biogeochemistry Lab             No  2015-01-01  \n",
       "3  USU Aquatic Biogeochemistry Lab             No  2015-01-01  \n",
       "4  USU Aquatic Biogeochemistry Lab             No  2015-01-01  "
      ]
     },
     "execution_count": 41,
     "metadata": {},
     "output_type": "execute_result"
    }
   ],
   "source": [
    "people_df"
   ]
  },
  {
   "cell_type": "markdown",
   "metadata": {},
   "source": [
    "---\n",
    "## 6. Explore Datasets"
   ]
  },
  {
   "cell_type": "code",
   "execution_count": 42,
   "metadata": {
    "collapsed": true
   },
   "outputs": [],
   "source": [
    "ds = odm2rest_request('datasets')"
   ]
  },
  {
   "cell_type": "code",
   "execution_count": 43,
   "metadata": {
    "collapsed": true
   },
   "outputs": [],
   "source": [
    "dsdf = pd.DataFrame.from_records(ds)"
   ]
  },
  {
   "cell_type": "code",
   "execution_count": 44,
   "metadata": {},
   "outputs": [
    {
     "name": "stdout",
     "output_type": "stream",
     "text": [
      "There are 610 datasets\n"
     ]
    }
   ],
   "source": [
    "print('There are {} datasets'.format(len(dsdf)))"
   ]
  },
  {
   "cell_type": "code",
   "execution_count": 45,
   "metadata": {},
   "outputs": [
    {
     "data": {
      "text/html": [
       "<div>\n",
       "<style>\n",
       "    .dataframe thead tr:only-child th {\n",
       "        text-align: right;\n",
       "    }\n",
       "\n",
       "    .dataframe thead th {\n",
       "        text-align: left;\n",
       "    }\n",
       "\n",
       "    .dataframe tbody tr th {\n",
       "        vertical-align: top;\n",
       "    }\n",
       "</style>\n",
       "<table border=\"1\" class=\"dataframe\">\n",
       "  <thead>\n",
       "    <tr style=\"text-align: right;\">\n",
       "      <th></th>\n",
       "      <th>DataSetAbstract</th>\n",
       "      <th>DataSetCode</th>\n",
       "      <th>DataSetID</th>\n",
       "      <th>DataSetTitle</th>\n",
       "      <th>DataSetTypeCV</th>\n",
       "      <th>DataSetUUID</th>\n",
       "    </tr>\n",
       "  </thead>\n",
       "  <tbody>\n",
       "    <tr>\n",
       "      <th>0</th>\n",
       "      <td>Dataset consisting of observations of TN at RB...</td>\n",
       "      <td>RB_1300E_TN</td>\n",
       "      <td>1</td>\n",
       "      <td>Observations of TN at RB_1300E</td>\n",
       "      <td>Specimen time series</td>\n",
       "      <td>b35965e6-4125-e711-a8b2-0050569b0c9e</td>\n",
       "    </tr>\n",
       "    <tr>\n",
       "      <th>1</th>\n",
       "      <td>Dataset consisting of observations of TP at RB...</td>\n",
       "      <td>RB_1300E_TP</td>\n",
       "      <td>2</td>\n",
       "      <td>Observations of TP at RB_1300E</td>\n",
       "      <td>Specimen time series</td>\n",
       "      <td>b45965e6-4125-e711-a8b2-0050569b0c9e</td>\n",
       "    </tr>\n",
       "    <tr>\n",
       "      <th>2</th>\n",
       "      <td>Dataset consisting of observations of Nitrate ...</td>\n",
       "      <td>RB_1300E_Nitrate</td>\n",
       "      <td>3</td>\n",
       "      <td>Observations of Nitrate at RB_1300E</td>\n",
       "      <td>Specimen time series</td>\n",
       "      <td>b55965e6-4125-e711-a8b2-0050569b0c9e</td>\n",
       "    </tr>\n",
       "    <tr>\n",
       "      <th>3</th>\n",
       "      <td>Dataset consisting of observations of Ammonia ...</td>\n",
       "      <td>RB_1300E_Ammonia</td>\n",
       "      <td>4</td>\n",
       "      <td>Observations of Ammonia at RB_1300E</td>\n",
       "      <td>Specimen time series</td>\n",
       "      <td>b65965e6-4125-e711-a8b2-0050569b0c9e</td>\n",
       "    </tr>\n",
       "    <tr>\n",
       "      <th>4</th>\n",
       "      <td>Dataset consisting of observations of Phosphat...</td>\n",
       "      <td>RB_1300E_Phosphate</td>\n",
       "      <td>5</td>\n",
       "      <td>Observations of Phosphate at RB_1300E</td>\n",
       "      <td>Specimen time series</td>\n",
       "      <td>b75965e6-4125-e711-a8b2-0050569b0c9e</td>\n",
       "    </tr>\n",
       "  </tbody>\n",
       "</table>\n",
       "</div>"
      ],
      "text/plain": [
       "                                     DataSetAbstract         DataSetCode  \\\n",
       "0  Dataset consisting of observations of TN at RB...         RB_1300E_TN   \n",
       "1  Dataset consisting of observations of TP at RB...         RB_1300E_TP   \n",
       "2  Dataset consisting of observations of Nitrate ...    RB_1300E_Nitrate   \n",
       "3  Dataset consisting of observations of Ammonia ...    RB_1300E_Ammonia   \n",
       "4  Dataset consisting of observations of Phosphat...  RB_1300E_Phosphate   \n",
       "\n",
       "   DataSetID                           DataSetTitle         DataSetTypeCV  \\\n",
       "0          1         Observations of TN at RB_1300E  Specimen time series   \n",
       "1          2         Observations of TP at RB_1300E  Specimen time series   \n",
       "2          3    Observations of Nitrate at RB_1300E  Specimen time series   \n",
       "3          4    Observations of Ammonia at RB_1300E  Specimen time series   \n",
       "4          5  Observations of Phosphate at RB_1300E  Specimen time series   \n",
       "\n",
       "                            DataSetUUID  \n",
       "0  b35965e6-4125-e711-a8b2-0050569b0c9e  \n",
       "1  b45965e6-4125-e711-a8b2-0050569b0c9e  \n",
       "2  b55965e6-4125-e711-a8b2-0050569b0c9e  \n",
       "3  b65965e6-4125-e711-a8b2-0050569b0c9e  \n",
       "4  b75965e6-4125-e711-a8b2-0050569b0c9e  "
      ]
     },
     "execution_count": 45,
     "metadata": {},
     "output_type": "execute_result"
    }
   ],
   "source": [
    "dsdf.head()"
   ]
  },
  {
   "cell_type": "markdown",
   "metadata": {},
   "source": [
    "### Look at one site: PR_SpringCreekStateRoad113 "
   ]
  },
  {
   "cell_type": "code",
   "execution_count": 46,
   "metadata": {
    "collapsed": true
   },
   "outputs": [],
   "source": [
    "siteCode = 'PR_SpringCreekStateRoad113'\n",
    "site = sites[sites['SamplingFeatureCode'] == siteCode]"
   ]
  },
  {
   "cell_type": "code",
   "execution_count": 47,
   "metadata": {
    "collapsed": true
   },
   "outputs": [],
   "source": [
    "site_dct = site.iloc[0].to_dict()"
   ]
  },
  {
   "cell_type": "code",
   "execution_count": 48,
   "metadata": {},
   "outputs": [
    {
     "data": {
      "text/plain": [
       "{'ElevationDatumCV': 'EGM96',\n",
       " 'Elevation_m': 1680.0,\n",
       " 'FeatureGeometryWKT': None,\n",
       " 'Latitude': 40.506788999999998,\n",
       " 'Longitude': -111.44145,\n",
       " 'SamplingFeatureCode': 'PR_SpringCreekStateRoad113',\n",
       " 'SamplingFeatureDescription': None,\n",
       " 'SamplingFeatureGeotypeCV': 'Point',\n",
       " 'SamplingFeatureID': 64,\n",
       " 'SamplingFeatureName': 'Spring Creek at State Road 113 in Midway, Utah',\n",
       " 'SamplingFeatureTypeCV': 'Site',\n",
       " 'SamplingFeatureUUID': 'f9470ed0-51fc-48f8-af66-5bc9f69c85a7',\n",
       " 'SiteTypeCV': 'Stream',\n",
       " 'SpatialReferenceID': 4,\n",
       " 'geometry': <shapely.geometry.point.Point at 0x1165d7320>}"
      ]
     },
     "execution_count": 48,
     "metadata": {},
     "output_type": "execute_result"
    }
   ],
   "source": [
    "site_dct"
   ]
  },
  {
   "cell_type": "code",
   "execution_count": 49,
   "metadata": {
    "collapsed": true
   },
   "outputs": [],
   "source": [
    "smap = folium.Map(location=[site_dct['Latitude'], site_dct['Longitude']], tiles='CartoDB positron', zoom_start=16)"
   ]
  },
  {
   "cell_type": "code",
   "execution_count": 50,
   "metadata": {},
   "outputs": [
    {
     "data": {
      "text/plain": [
       "<folium.map.Marker at 0x11bbfa7b8>"
      ]
     },
     "execution_count": 50,
     "metadata": {},
     "output_type": "execute_result"
    }
   ],
   "source": [
    "folium.Marker(location=[site_dct['Latitude'], site_dct['Longitude']]).add_to(smap)"
   ]
  },
  {
   "cell_type": "code",
   "execution_count": 51,
   "metadata": {},
   "outputs": [
    {
     "data": {
      "text/html": [
       "<div style=\"width:100%;\"><div style=\"position:relative;width:100%;height:0;padding-bottom:60%;\"><iframe src=\"data:text/html;charset=utf-8;base64,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\" style=\"position:absolute;width:100%;height:100%;left:0;top:0;border:none !important;\" allowfullscreen webkitallowfullscreen mozallowfullscreen></iframe></div></div>"
      ],
      "text/plain": [
       "<folium.folium.Map at 0x11b8c0470>"
      ]
     },
     "execution_count": 51,
     "metadata": {},
     "output_type": "execute_result"
    }
   ],
   "source": [
    "smap"
   ]
  },
  {
   "cell_type": "code",
   "execution_count": 52,
   "metadata": {
    "collapsed": true
   },
   "outputs": [],
   "source": [
    "siteds = dsdf[(dsdf['DataSetCode'].str.contains(siteCode))]"
   ]
  },
  {
   "cell_type": "code",
   "execution_count": 53,
   "metadata": {},
   "outputs": [
    {
     "data": {
      "text/html": [
       "<div>\n",
       "<style>\n",
       "    .dataframe thead tr:only-child th {\n",
       "        text-align: right;\n",
       "    }\n",
       "\n",
       "    .dataframe thead th {\n",
       "        text-align: left;\n",
       "    }\n",
       "\n",
       "    .dataframe tbody tr th {\n",
       "        vertical-align: top;\n",
       "    }\n",
       "</style>\n",
       "<table border=\"1\" class=\"dataframe\">\n",
       "  <thead>\n",
       "    <tr style=\"text-align: right;\">\n",
       "      <th></th>\n",
       "      <th>DataSetAbstract</th>\n",
       "      <th>DataSetCode</th>\n",
       "      <th>DataSetID</th>\n",
       "      <th>DataSetTitle</th>\n",
       "      <th>DataSetTypeCV</th>\n",
       "      <th>DataSetUUID</th>\n",
       "    </tr>\n",
       "  </thead>\n",
       "  <tbody>\n",
       "    <tr>\n",
       "      <th>576</th>\n",
       "      <td>Dataset consisting of observations of TN at PR...</td>\n",
       "      <td>PR_SpringCreekStateRoad113_TN</td>\n",
       "      <td>577</td>\n",
       "      <td>Observations of TN at PR_SpringCreekStateRoad113</td>\n",
       "      <td>Specimen time series</td>\n",
       "      <td>f35b65e6-4125-e711-a8b2-0050569b0c9e</td>\n",
       "    </tr>\n",
       "    <tr>\n",
       "      <th>577</th>\n",
       "      <td>Dataset consisting of observations of TP at PR...</td>\n",
       "      <td>PR_SpringCreekStateRoad113_TP</td>\n",
       "      <td>578</td>\n",
       "      <td>Observations of TP at PR_SpringCreekStateRoad113</td>\n",
       "      <td>Specimen time series</td>\n",
       "      <td>f45b65e6-4125-e711-a8b2-0050569b0c9e</td>\n",
       "    </tr>\n",
       "    <tr>\n",
       "      <th>578</th>\n",
       "      <td>Dataset consisting of observations of Tcolifor...</td>\n",
       "      <td>PR_SpringCreekStateRoad113_Tcoliform</td>\n",
       "      <td>579</td>\n",
       "      <td>Observations of Tcoliform at PR_SpringCreekSta...</td>\n",
       "      <td>Specimen time series</td>\n",
       "      <td>f55b65e6-4125-e711-a8b2-0050569b0c9e</td>\n",
       "    </tr>\n",
       "    <tr>\n",
       "      <th>579</th>\n",
       "      <td>Dataset consisting of observations of E-coli a...</td>\n",
       "      <td>PR_SpringCreekStateRoad113_E-coli</td>\n",
       "      <td>580</td>\n",
       "      <td>Observations of E-coli at PR_SpringCreekStateR...</td>\n",
       "      <td>Specimen time series</td>\n",
       "      <td>f65b65e6-4125-e711-a8b2-0050569b0c9e</td>\n",
       "    </tr>\n",
       "    <tr>\n",
       "      <th>580</th>\n",
       "      <td>Dataset consisting of observations of D18O at ...</td>\n",
       "      <td>PR_SpringCreekStateRoad113_D18O</td>\n",
       "      <td>581</td>\n",
       "      <td>Observations of D18O at PR_SpringCreekStateRoa...</td>\n",
       "      <td>Specimen time series</td>\n",
       "      <td>f75b65e6-4125-e711-a8b2-0050569b0c9e</td>\n",
       "    </tr>\n",
       "    <tr>\n",
       "      <th>581</th>\n",
       "      <td>Dataset consisting of observations of D2H at P...</td>\n",
       "      <td>PR_SpringCreekStateRoad113_D2H</td>\n",
       "      <td>582</td>\n",
       "      <td>Observations of D2H at PR_SpringCreekStateRoad113</td>\n",
       "      <td>Specimen time series</td>\n",
       "      <td>f85b65e6-4125-e711-a8b2-0050569b0c9e</td>\n",
       "    </tr>\n",
       "    <tr>\n",
       "      <th>582</th>\n",
       "      <td>Dataset consisting of observations of WaterTem...</td>\n",
       "      <td>PR_SpringCreekStateRoad113_WaterTemp</td>\n",
       "      <td>583</td>\n",
       "      <td>Observations of WaterTemp at PR_SpringCreekSta...</td>\n",
       "      <td>Specimen time series</td>\n",
       "      <td>f95b65e6-4125-e711-a8b2-0050569b0c9e</td>\n",
       "    </tr>\n",
       "  </tbody>\n",
       "</table>\n",
       "</div>"
      ],
      "text/plain": [
       "                                       DataSetAbstract  \\\n",
       "576  Dataset consisting of observations of TN at PR...   \n",
       "577  Dataset consisting of observations of TP at PR...   \n",
       "578  Dataset consisting of observations of Tcolifor...   \n",
       "579  Dataset consisting of observations of E-coli a...   \n",
       "580  Dataset consisting of observations of D18O at ...   \n",
       "581  Dataset consisting of observations of D2H at P...   \n",
       "582  Dataset consisting of observations of WaterTem...   \n",
       "\n",
       "                              DataSetCode  DataSetID  \\\n",
       "576         PR_SpringCreekStateRoad113_TN        577   \n",
       "577         PR_SpringCreekStateRoad113_TP        578   \n",
       "578  PR_SpringCreekStateRoad113_Tcoliform        579   \n",
       "579     PR_SpringCreekStateRoad113_E-coli        580   \n",
       "580       PR_SpringCreekStateRoad113_D18O        581   \n",
       "581        PR_SpringCreekStateRoad113_D2H        582   \n",
       "582  PR_SpringCreekStateRoad113_WaterTemp        583   \n",
       "\n",
       "                                          DataSetTitle         DataSetTypeCV  \\\n",
       "576   Observations of TN at PR_SpringCreekStateRoad113  Specimen time series   \n",
       "577   Observations of TP at PR_SpringCreekStateRoad113  Specimen time series   \n",
       "578  Observations of Tcoliform at PR_SpringCreekSta...  Specimen time series   \n",
       "579  Observations of E-coli at PR_SpringCreekStateR...  Specimen time series   \n",
       "580  Observations of D18O at PR_SpringCreekStateRoa...  Specimen time series   \n",
       "581  Observations of D2H at PR_SpringCreekStateRoad113  Specimen time series   \n",
       "582  Observations of WaterTemp at PR_SpringCreekSta...  Specimen time series   \n",
       "\n",
       "                              DataSetUUID  \n",
       "576  f35b65e6-4125-e711-a8b2-0050569b0c9e  \n",
       "577  f45b65e6-4125-e711-a8b2-0050569b0c9e  \n",
       "578  f55b65e6-4125-e711-a8b2-0050569b0c9e  \n",
       "579  f65b65e6-4125-e711-a8b2-0050569b0c9e  \n",
       "580  f75b65e6-4125-e711-a8b2-0050569b0c9e  \n",
       "581  f85b65e6-4125-e711-a8b2-0050569b0c9e  \n",
       "582  f95b65e6-4125-e711-a8b2-0050569b0c9e  "
      ]
     },
     "execution_count": 53,
     "metadata": {},
     "output_type": "execute_result"
    }
   ],
   "source": [
    "siteds"
   ]
  },
  {
   "cell_type": "code",
   "execution_count": 54,
   "metadata": {},
   "outputs": [
    {
     "data": {
      "text/plain": [
       "{'DataSetAbstract': 'Dataset consisting of observations of TN at PR_SpringCreekStateRoad113 collected by multiple sampling efforts from 2013-2016 grouped by site and variable to generate unique datasets for visualization.',\n",
       " 'DataSetCode': 'PR_SpringCreekStateRoad113_TN',\n",
       " 'DataSetID': 577,\n",
       " 'DataSetTitle': 'Observations of TN at PR_SpringCreekStateRoad113',\n",
       " 'DataSetTypeCV': 'Specimen time series',\n",
       " 'DataSetUUID': 'f35b65e6-4125-e711-a8b2-0050569b0c9e',\n",
       " 'index': 576}"
      ]
     },
     "execution_count": 54,
     "metadata": {},
     "output_type": "execute_result"
    }
   ],
   "source": [
    "# Total Nitrogen data at this site\n",
    "varcode = 'TN'\n",
    "siteds_dct = siteds[siteds['DataSetCode'].str.contains(varcode)].reset_index().iloc[0].to_dict()\n",
    "siteds_dct"
   ]
  },
  {
   "cell_type": "code",
   "execution_count": 55,
   "metadata": {
    "collapsed": true
   },
   "outputs": [],
   "source": [
    "site_vals = odm2rest_request('datasetvalues', {'datasetUUID': siteds_dct['DataSetUUID']})"
   ]
  },
  {
   "cell_type": "code",
   "execution_count": 56,
   "metadata": {
    "collapsed": true
   },
   "outputs": [],
   "source": [
    "site_valsdf = pd.DataFrame.from_records(site_vals)"
   ]
  },
  {
   "cell_type": "code",
   "execution_count": 57,
   "metadata": {
    "collapsed": true
   },
   "outputs": [],
   "source": [
    "site_valsdf['valuedatetime'] = site_valsdf.apply(lambda x: pd.to_datetime(x['valuedatetime']).tz_localize(dateutil.tz.tzoffset(None, \n",
    "                                                                                                                               int(x['valuedatetimeutcoffset'])*60*60)).astimezone(pytz.UTC), axis=1)"
   ]
  },
  {
   "cell_type": "code",
   "execution_count": 58,
   "metadata": {},
   "outputs": [
    {
     "data": {
      "text/plain": [
       "<matplotlib.axes._subplots.AxesSubplot at 0x11b4916a0>"
      ]
     },
     "execution_count": 58,
     "metadata": {},
     "output_type": "execute_result"
    },
    {
     "data": {
      "image/png": "[encoded data removed]",
      "text/plain": [
       "<matplotlib.figure.Figure at 0x11b459668>"
      ]
     },
     "metadata": {},
     "output_type": "display_data"
    }
   ],
   "source": [
    "site_valsdf.plot(y='datavalue', x='valuedatetime', label=varcode)"
   ]
  },
  {
   "cell_type": "code",
   "execution_count": null,
   "metadata": {
    "collapsed": true
   },
   "outputs": [],
   "source": []
  }
 ],
 "metadata": {
  "kernelspec": {
   "display_name": "Python [conda env:workenv]",
   "language": "python",
   "name": "conda-env-workenv-py"
  },
  "language_info": {
   "codemirror_mode": {
    "name": "ipython",
    "version": 3
   },
   "file_extension": ".py",
   "mimetype": "text/x-python",
   "name": "python",
   "nbconvert_exporter": "python",
   "pygments_lexer": "ipython3",
   "version": "3.6.2"
  }
 },
 "nbformat": 4,
 "nbformat_minor": 2
}
